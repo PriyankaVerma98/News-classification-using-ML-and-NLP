{
 "cells": [
  {
   "cell_type": "code",
   "execution_count": 206,
   "metadata": {},
   "outputs": [],
   "source": [
    "import pandas as pd"
   ]
  },
  {
   "cell_type": "code",
   "execution_count": 207,
   "metadata": {},
   "outputs": [],
   "source": [
    "colss= [ 'no','id', 'label', 'statement','subject','speaker','job_tit','state','party', \n",
    "       'c9','c10','c11', 'c12', 'c13', 'context', 'justi' ]"
   ]
  },
  {
   "cell_type": "code",
   "execution_count": 208,
   "metadata": {},
   "outputs": [],
   "source": [
    "df= pd.read_csv(\"/Users/PV/anaconda3/envs/NLP/dataset/train2.tsv\", delimiter='\\t',header = None, names= colss, usecols=[\"statement\",\"label\",\"justi\"])"
   ]
  },
  {
   "cell_type": "code",
   "execution_count": 209,
   "metadata": {},
   "outputs": [],
   "source": [
    "df_test= pd.read_csv(\"/Users/PV/anaconda3/envs/NLP/dataset/test2.tsv\", delimiter='\\t',header = None, names= colss, usecols=[\"statement\",\"label\",\"justi\"])"
   ]
  },
  {
   "cell_type": "markdown",
   "metadata": {},
   "source": [
    "## Data preprocessing "
   ]
  },
  {
   "cell_type": "code",
   "execution_count": 211,
   "metadata": {},
   "outputs": [],
   "source": [
    "import numpy as np\n",
    "from nltk.tokenize import word_tokenize\n",
    "from nltk import pos_tag\n",
    "from nltk.corpus import stopwords\n",
    "from nltk.stem import WordNetLemmatizer\n",
    "from sklearn.preprocessing import LabelEncoder\n",
    "from collections import defaultdict\n",
    "from nltk.corpus import wordnet as wn"
   ]
  },
  {
   "cell_type": "code",
   "execution_count": 212,
   "metadata": {},
   "outputs": [],
   "source": [
    "df.dropna(inplace= True)\n",
    "df[\"statement\"] = [entry.lower() for entry in df[\"statement\"]]\n",
    "df[\"justi\"] = [entry.lower() for entry in df[\"justi\"]]"
   ]
  },
  {
   "cell_type": "code",
   "execution_count": 213,
   "metadata": {},
   "outputs": [],
   "source": [
    "df_test.dropna(inplace= True)\n",
    "df_test[\"statement\"] = [entry.lower() for entry in df_test[\"statement\"]]\n",
    "df_test[\"justi\"] = [entry.lower() for entry in df_test[\"justi\"]]"
   ]
  },
  {
   "cell_type": "code",
   "execution_count": 12,
   "metadata": {},
   "outputs": [
    {
     "name": "stderr",
     "output_type": "stream",
     "text": [
      "[nltk_data] Downloading package punkt to /Users/PV/nltk_data...\n",
      "[nltk_data]   Unzipping tokenizers/punkt.zip.\n"
     ]
    },
    {
     "data": {
      "text/plain": [
       "True"
      ]
     },
     "execution_count": 12,
     "metadata": {},
     "output_type": "execute_result"
    }
   ],
   "source": [
    "import nltk\n",
    "nltk.download('punkt')"
   ]
  },
  {
   "cell_type": "code",
   "execution_count": 214,
   "metadata": {},
   "outputs": [],
   "source": [
    "df['statement']= [word_tokenize(entry) for entry in df['statement']]\n",
    "df['justi']= [word_tokenize(entry) for entry in df['justi']]"
   ]
  },
  {
   "cell_type": "code",
   "execution_count": 215,
   "metadata": {},
   "outputs": [],
   "source": [
    "df_test['statement']= [word_tokenize(entry) for entry in df_test['statement']]\n",
    "df_test['justi']= [word_tokenize(entry) for entry in df_test['justi']]"
   ]
  },
  {
   "cell_type": "code",
   "execution_count": 216,
   "metadata": {
    "scrolled": true
   },
   "outputs": [
    {
     "data": {
      "text/html": [
       "<div>\n",
       "<style scoped>\n",
       "    .dataframe tbody tr th:only-of-type {\n",
       "        vertical-align: middle;\n",
       "    }\n",
       "\n",
       "    .dataframe tbody tr th {\n",
       "        vertical-align: top;\n",
       "    }\n",
       "\n",
       "    .dataframe thead th {\n",
       "        text-align: right;\n",
       "    }\n",
       "</style>\n",
       "<table border=\"1\" class=\"dataframe\">\n",
       "  <thead>\n",
       "    <tr style=\"text-align: right;\">\n",
       "      <th></th>\n",
       "      <th>label</th>\n",
       "      <th>statement</th>\n",
       "      <th>justi</th>\n",
       "    </tr>\n",
       "  </thead>\n",
       "  <tbody>\n",
       "    <tr>\n",
       "      <th>0</th>\n",
       "      <td>false</td>\n",
       "      <td>[says, the, annies, list, political, group, su...</td>\n",
       "      <td>[that, 's, a, premise, that, he, fails, to, ba...</td>\n",
       "    </tr>\n",
       "    <tr>\n",
       "      <th>1</th>\n",
       "      <td>half-true</td>\n",
       "      <td>[when, did, the, decline, of, coal, start, ?, ...</td>\n",
       "      <td>[surovell, said, the, decline, of, coal, ``, s...</td>\n",
       "    </tr>\n",
       "    <tr>\n",
       "      <th>2</th>\n",
       "      <td>mostly-true</td>\n",
       "      <td>[hillary, clinton, agrees, with, john, mccain,...</td>\n",
       "      <td>[obama, said, he, would, have, voted, against,...</td>\n",
       "    </tr>\n",
       "    <tr>\n",
       "      <th>3</th>\n",
       "      <td>false</td>\n",
       "      <td>[health, care, reform, legislation, is, likely...</td>\n",
       "      <td>[the, release, may, have, a, point, that, miku...</td>\n",
       "    </tr>\n",
       "    <tr>\n",
       "      <th>4</th>\n",
       "      <td>half-true</td>\n",
       "      <td>[the, economic, turnaround, started, at, the, ...</td>\n",
       "      <td>[crist, said, that, the, economic, ``, turnaro...</td>\n",
       "    </tr>\n",
       "  </tbody>\n",
       "</table>\n",
       "</div>"
      ],
      "text/plain": [
       "         label                                          statement  \\\n",
       "0        false  [says, the, annies, list, political, group, su...   \n",
       "1    half-true  [when, did, the, decline, of, coal, start, ?, ...   \n",
       "2  mostly-true  [hillary, clinton, agrees, with, john, mccain,...   \n",
       "3        false  [health, care, reform, legislation, is, likely...   \n",
       "4    half-true  [the, economic, turnaround, started, at, the, ...   \n",
       "\n",
       "                                               justi  \n",
       "0  [that, 's, a, premise, that, he, fails, to, ba...  \n",
       "1  [surovell, said, the, decline, of, coal, ``, s...  \n",
       "2  [obama, said, he, would, have, voted, against,...  \n",
       "3  [the, release, may, have, a, point, that, miku...  \n",
       "4  [crist, said, that, the, economic, ``, turnaro...  "
      ]
     },
     "execution_count": 216,
     "metadata": {},
     "output_type": "execute_result"
    }
   ],
   "source": [
    "df.head()"
   ]
  },
  {
   "cell_type": "code",
   "execution_count": 217,
   "metadata": {},
   "outputs": [
    {
     "data": {
      "text/plain": [
       "1258"
      ]
     },
     "execution_count": 217,
     "metadata": {},
     "output_type": "execute_result"
    }
   ],
   "source": [
    "len(df_test)"
   ]
  },
  {
   "cell_type": "code",
   "execution_count": 218,
   "metadata": {},
   "outputs": [
    {
     "data": {
      "text/plain": [
       "10156"
      ]
     },
     "execution_count": 218,
     "metadata": {},
     "output_type": "execute_result"
    }
   ],
   "source": [
    "len(df)"
   ]
  },
  {
   "cell_type": "code",
   "execution_count": 121,
   "metadata": {},
   "outputs": [
    {
     "name": "stderr",
     "output_type": "stream",
     "text": [
      "[nltk_data] Downloading package wordnet to /Users/PV/nltk_data...\n",
      "[nltk_data]   Package wordnet is already up-to-date!\n"
     ]
    },
    {
     "data": {
      "text/plain": [
       "True"
      ]
     },
     "execution_count": 121,
     "metadata": {},
     "output_type": "execute_result"
    }
   ],
   "source": [
    "import nltk\n",
    "nltk.download('wordnet')    "
   ]
  },
  {
   "cell_type": "code",
   "execution_count": 219,
   "metadata": {},
   "outputs": [],
   "source": [
    "tag_map = defaultdict(lambda : wn.NOUN)\n",
    "tag_map['J'] = wn.ADJ\n",
    "tag_map['V'] = wn.VERB\n",
    "tag_map['R'] = wn.ADV"
   ]
  },
  {
   "cell_type": "code",
   "execution_count": 182,
   "metadata": {},
   "outputs": [
    {
     "name": "stderr",
     "output_type": "stream",
     "text": [
      "[nltk_data] Downloading package stopwords to /Users/PV/nltk_data...\n",
      "[nltk_data]   Package stopwords is already up-to-date!\n"
     ]
    },
    {
     "data": {
      "text/plain": [
       "True"
      ]
     },
     "execution_count": 182,
     "metadata": {},
     "output_type": "execute_result"
    }
   ],
   "source": [
    "nltk.download('stopwords')"
   ]
  },
  {
   "cell_type": "code",
   "execution_count": 220,
   "metadata": {},
   "outputs": [],
   "source": [
    "file1 = open(r\"/Users/PV/anaconda3/envs/NLP/forbidden_words.txt\",\"r\") "
   ]
  },
  {
   "cell_type": "code",
   "execution_count": 221,
   "metadata": {},
   "outputs": [],
   "source": [
    "f = file1.read().splitlines()"
   ]
  },
  {
   "cell_type": "code",
   "execution_count": 222,
   "metadata": {},
   "outputs": [
    {
     "data": {
      "text/plain": [
       "['misleading',\n",
       " 'truth',\n",
       " 'inaccurate',\n",
       " 'evidence',\n",
       " 'wrong',\n",
       " 'incorrect',\n",
       " 'true',\n",
       " 'fake',\n",
       " 'absurd',\n",
       " 'ridiculous',\n",
       " 'ridiculously',\n",
       " 'mistake',\n",
       " 'exaggerates',\n",
       " 'barely true',\n",
       " 'barely-true',\n",
       " 'mostly false',\n",
       " 'barely',\n",
       " 'mostly',\n",
       " 'claim',\n",
       " 'true',\n",
       " 'false',\n",
       " 'half-true',\n",
       " 'half true',\n",
       " 'truth',\n",
       " 'mostly-ture',\n",
       " 'mostly true',\n",
       " 'pants-on-fire',\n",
       " 'pants on fire']"
      ]
     },
     "execution_count": 222,
     "metadata": {},
     "output_type": "execute_result"
    }
   ],
   "source": [
    "# list of forbidden words\n",
    "f"
   ]
  },
  {
   "cell_type": "code",
   "execution_count": 223,
   "metadata": {},
   "outputs": [],
   "source": [
    "stopwords = nltk.corpus.stopwords.words('english')\n",
    "stopwords.extend(f)"
   ]
  },
  {
   "cell_type": "code",
   "execution_count": 224,
   "metadata": {},
   "outputs": [
    {
     "data": {
      "text/plain": [
       "['i',\n",
       " 'me',\n",
       " 'my',\n",
       " 'myself',\n",
       " 'we',\n",
       " 'our',\n",
       " 'ours',\n",
       " 'ourselves',\n",
       " 'you',\n",
       " \"you're\",\n",
       " \"you've\",\n",
       " \"you'll\",\n",
       " \"you'd\",\n",
       " 'your',\n",
       " 'yours',\n",
       " 'yourself',\n",
       " 'yourselves',\n",
       " 'he',\n",
       " 'him',\n",
       " 'his',\n",
       " 'himself',\n",
       " 'she',\n",
       " \"she's\",\n",
       " 'her',\n",
       " 'hers',\n",
       " 'herself',\n",
       " 'it',\n",
       " \"it's\",\n",
       " 'its',\n",
       " 'itself',\n",
       " 'they',\n",
       " 'them',\n",
       " 'their',\n",
       " 'theirs',\n",
       " 'themselves',\n",
       " 'what',\n",
       " 'which',\n",
       " 'who',\n",
       " 'whom',\n",
       " 'this',\n",
       " 'that',\n",
       " \"that'll\",\n",
       " 'these',\n",
       " 'those',\n",
       " 'am',\n",
       " 'is',\n",
       " 'are',\n",
       " 'was',\n",
       " 'were',\n",
       " 'be',\n",
       " 'been',\n",
       " 'being',\n",
       " 'have',\n",
       " 'has',\n",
       " 'had',\n",
       " 'having',\n",
       " 'do',\n",
       " 'does',\n",
       " 'did',\n",
       " 'doing',\n",
       " 'a',\n",
       " 'an',\n",
       " 'the',\n",
       " 'and',\n",
       " 'but',\n",
       " 'if',\n",
       " 'or',\n",
       " 'because',\n",
       " 'as',\n",
       " 'until',\n",
       " 'while',\n",
       " 'of',\n",
       " 'at',\n",
       " 'by',\n",
       " 'for',\n",
       " 'with',\n",
       " 'about',\n",
       " 'against',\n",
       " 'between',\n",
       " 'into',\n",
       " 'through',\n",
       " 'during',\n",
       " 'before',\n",
       " 'after',\n",
       " 'above',\n",
       " 'below',\n",
       " 'to',\n",
       " 'from',\n",
       " 'up',\n",
       " 'down',\n",
       " 'in',\n",
       " 'out',\n",
       " 'on',\n",
       " 'off',\n",
       " 'over',\n",
       " 'under',\n",
       " 'again',\n",
       " 'further',\n",
       " 'then',\n",
       " 'once',\n",
       " 'here',\n",
       " 'there',\n",
       " 'when',\n",
       " 'where',\n",
       " 'why',\n",
       " 'how',\n",
       " 'all',\n",
       " 'any',\n",
       " 'both',\n",
       " 'each',\n",
       " 'few',\n",
       " 'more',\n",
       " 'most',\n",
       " 'other',\n",
       " 'some',\n",
       " 'such',\n",
       " 'no',\n",
       " 'nor',\n",
       " 'not',\n",
       " 'only',\n",
       " 'own',\n",
       " 'same',\n",
       " 'so',\n",
       " 'than',\n",
       " 'too',\n",
       " 'very',\n",
       " 's',\n",
       " 't',\n",
       " 'can',\n",
       " 'will',\n",
       " 'just',\n",
       " 'don',\n",
       " \"don't\",\n",
       " 'should',\n",
       " \"should've\",\n",
       " 'now',\n",
       " 'd',\n",
       " 'll',\n",
       " 'm',\n",
       " 'o',\n",
       " 're',\n",
       " 've',\n",
       " 'y',\n",
       " 'ain',\n",
       " 'aren',\n",
       " \"aren't\",\n",
       " 'couldn',\n",
       " \"couldn't\",\n",
       " 'didn',\n",
       " \"didn't\",\n",
       " 'doesn',\n",
       " \"doesn't\",\n",
       " 'hadn',\n",
       " \"hadn't\",\n",
       " 'hasn',\n",
       " \"hasn't\",\n",
       " 'haven',\n",
       " \"haven't\",\n",
       " 'isn',\n",
       " \"isn't\",\n",
       " 'ma',\n",
       " 'mightn',\n",
       " \"mightn't\",\n",
       " 'mustn',\n",
       " \"mustn't\",\n",
       " 'needn',\n",
       " \"needn't\",\n",
       " 'shan',\n",
       " \"shan't\",\n",
       " 'shouldn',\n",
       " \"shouldn't\",\n",
       " 'wasn',\n",
       " \"wasn't\",\n",
       " 'weren',\n",
       " \"weren't\",\n",
       " 'won',\n",
       " \"won't\",\n",
       " 'wouldn',\n",
       " \"wouldn't\",\n",
       " 'misleading',\n",
       " 'truth',\n",
       " 'inaccurate',\n",
       " 'evidence',\n",
       " 'wrong',\n",
       " 'incorrect',\n",
       " 'true',\n",
       " 'fake',\n",
       " 'absurd',\n",
       " 'ridiculous',\n",
       " 'ridiculously',\n",
       " 'mistake',\n",
       " 'exaggerates',\n",
       " 'barely true',\n",
       " 'barely-true',\n",
       " 'mostly false',\n",
       " 'barely',\n",
       " 'mostly',\n",
       " 'claim',\n",
       " 'true',\n",
       " 'false',\n",
       " 'half-true',\n",
       " 'half true',\n",
       " 'truth',\n",
       " 'mostly-ture',\n",
       " 'mostly true',\n",
       " 'pants-on-fire',\n",
       " 'pants on fire']"
      ]
     },
     "execution_count": 224,
     "metadata": {},
     "output_type": "execute_result"
    }
   ],
   "source": [
    "# english stopwords + forbidden words \n",
    "stopwords"
   ]
  },
  {
   "cell_type": "code",
   "execution_count": 129,
   "metadata": {},
   "outputs": [
    {
     "name": "stderr",
     "output_type": "stream",
     "text": [
      "[nltk_data] Downloading package averaged_perceptron_tagger to\n",
      "[nltk_data]     /Users/PV/nltk_data...\n",
      "[nltk_data]   Package averaged_perceptron_tagger is already up-to-\n",
      "[nltk_data]       date!\n"
     ]
    },
    {
     "data": {
      "text/plain": [
       "True"
      ]
     },
     "execution_count": 129,
     "metadata": {},
     "output_type": "execute_result"
    }
   ],
   "source": [
    "nltk.download('averaged_perceptron_tagger')"
   ]
  },
  {
   "cell_type": "code",
   "execution_count": 228,
   "metadata": {},
   "outputs": [],
   "source": [
    "#for training data \n",
    "for index,entry in enumerate(df['statement']):\n",
    "    Final_words = []\n",
    "    # Initializing WordNetLemmatizer()\n",
    "    word_Lemmatized = WordNetLemmatizer()\n",
    "    \n",
    "    # pos_tag provides the 'tag' i.e if the word is Noun(N) or Verb(V) or something else.\n",
    "    for word, tag in pos_tag(entry):\n",
    "       \n",
    "        # check for Stop words and consider only alphabets\n",
    "        if word not in stopwords and word.isalpha():\n",
    "            word_Final = word_Lemmatized.lemmatize(word,tag_map[tag[0]])\n",
    "            Final_words.append(word_Final)\n",
    "            \n",
    "    # The final processed set of words for each iteration will be stored in 'text_final'\n",
    "    df.loc[index,'text_final'] = str(Final_words)"
   ]
  },
  {
   "cell_type": "code",
   "execution_count": 229,
   "metadata": {},
   "outputs": [],
   "source": [
    "#for testing data \n",
    "for index,entry in enumerate(df_test['statement']):\n",
    "    Final_words = []\n",
    "    word_Lemmatized = WordNetLemmatizer()\n",
    "    for word, tag in pos_tag(entry):\n",
    "        if word not in stopwords and word.isalpha():\n",
    "            word_Final = word_Lemmatized.lemmatize(word,tag_map[tag[0]])\n",
    "            Final_words.append(word_Final)\n",
    "    df_test.loc[index,'text_final'] = str(Final_words)"
   ]
  },
  {
   "cell_type": "code",
   "execution_count": 230,
   "metadata": {},
   "outputs": [
    {
     "data": {
      "text/html": [
       "<div>\n",
       "<style scoped>\n",
       "    .dataframe tbody tr th:only-of-type {\n",
       "        vertical-align: middle;\n",
       "    }\n",
       "\n",
       "    .dataframe tbody tr th {\n",
       "        vertical-align: top;\n",
       "    }\n",
       "\n",
       "    .dataframe thead th {\n",
       "        text-align: right;\n",
       "    }\n",
       "</style>\n",
       "<table border=\"1\" class=\"dataframe\">\n",
       "  <thead>\n",
       "    <tr style=\"text-align: right;\">\n",
       "      <th></th>\n",
       "      <th>label</th>\n",
       "      <th>statement</th>\n",
       "      <th>justi</th>\n",
       "      <th>text_final</th>\n",
       "    </tr>\n",
       "  </thead>\n",
       "  <tbody>\n",
       "    <tr>\n",
       "      <th>0</th>\n",
       "      <td>true</td>\n",
       "      <td>[building, a, wall, on, the, u.s.-mexico, bord...</td>\n",
       "      <td>[meantime, ,, engineering, experts, agree, the...</td>\n",
       "      <td>['build', 'wall', 'border', 'take', 'literally...</td>\n",
       "    </tr>\n",
       "    <tr>\n",
       "      <th>1</th>\n",
       "      <td>false</td>\n",
       "      <td>[wisconsin, is, on, pace, to, double, the, num...</td>\n",
       "      <td>[she, cited, layoff, notices, received, by, th...</td>\n",
       "      <td>['wisconsin', 'pace', 'double', 'number', 'lay...</td>\n",
       "    </tr>\n",
       "    <tr>\n",
       "      <th>2</th>\n",
       "      <td>false</td>\n",
       "      <td>[says, john, mccain, has, done, nothing, to, h...</td>\n",
       "      <td>[trump, said, that, mccain, ``, has, done, not...</td>\n",
       "      <td>['say', 'john', 'mccain', 'do', 'nothing', 'he...</td>\n",
       "    </tr>\n",
       "    <tr>\n",
       "      <th>3</th>\n",
       "      <td>half-true</td>\n",
       "      <td>[suzanne, bonamici, supports, a, plan, that, w...</td>\n",
       "      <td>[but, spending, still, goes, up, ., in, additi...</td>\n",
       "      <td>['suzanne', 'bonamici', 'support', 'plan', 'cu...</td>\n",
       "    </tr>\n",
       "    <tr>\n",
       "      <th>4</th>\n",
       "      <td>pants-fire</td>\n",
       "      <td>[when, asked, by, a, reporter, whether, hes, a...</td>\n",
       "      <td>[our, rating, a, democratic, party, web, video...</td>\n",
       "      <td>['ask', 'reporter', 'whether', 'he', 'center',...</td>\n",
       "    </tr>\n",
       "  </tbody>\n",
       "</table>\n",
       "</div>"
      ],
      "text/plain": [
       "        label                                          statement  \\\n",
       "0        true  [building, a, wall, on, the, u.s.-mexico, bord...   \n",
       "1       false  [wisconsin, is, on, pace, to, double, the, num...   \n",
       "2       false  [says, john, mccain, has, done, nothing, to, h...   \n",
       "3   half-true  [suzanne, bonamici, supports, a, plan, that, w...   \n",
       "4  pants-fire  [when, asked, by, a, reporter, whether, hes, a...   \n",
       "\n",
       "                                               justi  \\\n",
       "0  [meantime, ,, engineering, experts, agree, the...   \n",
       "1  [she, cited, layoff, notices, received, by, th...   \n",
       "2  [trump, said, that, mccain, ``, has, done, not...   \n",
       "3  [but, spending, still, goes, up, ., in, additi...   \n",
       "4  [our, rating, a, democratic, party, web, video...   \n",
       "\n",
       "                                          text_final  \n",
       "0  ['build', 'wall', 'border', 'take', 'literally...  \n",
       "1  ['wisconsin', 'pace', 'double', 'number', 'lay...  \n",
       "2  ['say', 'john', 'mccain', 'do', 'nothing', 'he...  \n",
       "3  ['suzanne', 'bonamici', 'support', 'plan', 'cu...  \n",
       "4  ['ask', 'reporter', 'whether', 'he', 'center',...  "
      ]
     },
     "execution_count": 230,
     "metadata": {},
     "output_type": "execute_result"
    }
   ],
   "source": [
    "df_test.head()"
   ]
  },
  {
   "cell_type": "code",
   "execution_count": 398,
   "metadata": {},
   "outputs": [],
   "source": [
    "train_X = df['text_final']\n",
    "train_Y = df['label']"
   ]
  },
  {
   "cell_type": "code",
   "execution_count": 399,
   "metadata": {},
   "outputs": [],
   "source": [
    "test_X = df_test['text_final']\n",
    "test_Y = df_test['label']"
   ]
  },
  {
   "cell_type": "code",
   "execution_count": 400,
   "metadata": {},
   "outputs": [
    {
     "data": {
      "text/plain": [
       "1258"
      ]
     },
     "execution_count": 400,
     "metadata": {},
     "output_type": "execute_result"
    }
   ],
   "source": [
    "test_X.dropna(inplace = True)\n",
    "test_Y.dropna(inplace = True)\n",
    "len(test_Y)"
   ]
  },
  {
   "cell_type": "code",
   "execution_count": 401,
   "metadata": {},
   "outputs": [
    {
     "data": {
      "text/plain": [
       "10156"
      ]
     },
     "execution_count": 401,
     "metadata": {},
     "output_type": "execute_result"
    }
   ],
   "source": [
    "train_X.dropna(inplace = True)\n",
    "train_Y.dropna(inplace = True)\n",
    "len(train_X)"
   ]
  },
  {
   "cell_type": "code",
   "execution_count": 402,
   "metadata": {},
   "outputs": [],
   "source": [
    "Encoder = LabelEncoder()\n",
    "train_Y = Encoder.fit_transform(train_Y)\n",
    "test_Y = Encoder.fit_transform(test_Y)"
   ]
  },
  {
   "cell_type": "code",
   "execution_count": 243,
   "metadata": {},
   "outputs": [
    {
     "data": {
      "text/plain": [
       "array([5, 1, 1, ..., 0, 0, 1])"
      ]
     },
     "execution_count": 243,
     "metadata": {},
     "output_type": "execute_result"
    }
   ],
   "source": [
    "test_Y"
   ]
  },
  {
   "cell_type": "markdown",
   "metadata": {},
   "source": [
    "Trying out various combinations of parameters"
   ]
  },
  {
   "cell_type": "code",
   "execution_count": 251,
   "metadata": {},
   "outputs": [],
   "source": [
    "# Tfidf_vect = TfidfVectorizer( min_df=4, norm='l2', ngram_range=(1, 1), stop_words='english')\n",
    "# # max_features=5000\n",
    "# Tfidf_vect.fit(df['text_final'])\n",
    "\n",
    "# train_X_Tfidf = Tfidf_vect.transform(train_X)\n",
    "# test_X_Tfidf = Tfidf_vect.transform(test_X)"
   ]
  },
  {
   "cell_type": "code",
   "execution_count": 272,
   "metadata": {},
   "outputs": [],
   "source": [
    "# # this decreses the accuracy from before\n",
    "# Tfidf_vect = TfidfVectorizer(sublinear_tf=True, min_df=4, norm='l2', encoding='latin-1', ngram_range=(1, 2), stop_words='english')\n",
    "# Tfidf_vect.fit(df['text_final'])\n",
    "\n",
    "# train_X_Tfidf = Tfidf_vect.transform(train_X)\n",
    "# test_X_Tfidf = Tfidf_vect.transform(test_X)"
   ]
  },
  {
   "cell_type": "code",
   "execution_count": 279,
   "metadata": {},
   "outputs": [],
   "source": [
    "# Tfidf_vect = TfidfVectorizer(sublinear_tf=True, min_df=5, norm='l2', encoding='latin-1', ngram_range=(1, 2), stop_words='english')\n",
    "# Tfidf_vect.fit(df['text_final'])\n",
    "\n",
    "# train_X_Tfidf = Tfidf_vect.transform(train_X)\n",
    "# test_X_Tfidf = Tfidf_vect.transform(test_X)\n",
    "# #slight increase in accuracy"
   ]
  },
  {
   "cell_type": "code",
   "execution_count": 291,
   "metadata": {},
   "outputs": [],
   "source": [
    "# Tfidf_vect = TfidfVectorizer(sublinear_tf=True, norm='l2', encoding='latin-1', ngram_range=(1, 1), stop_words='english')\n",
    "# Tfidf_vect.fit(df['text_final'])\n",
    "\n",
    "# train_X_Tfidf = Tfidf_vect.transform(train_X)\n",
    "# test_X_Tfidf = Tfidf_vect.transform(test_X)"
   ]
  },
  {
   "cell_type": "code",
   "execution_count": 312,
   "metadata": {},
   "outputs": [],
   "source": [
    "# Tfidf_vect = TfidfVectorizer(sublinear_tf=True, norm='l2', encoding='latin-1', ngram_range=(1, 1))\n",
    "# Tfidf_vect.fit(df['text_final'])\n",
    "\n",
    "# # train_X_Tfidf = Tfidf_vect.transform(train_X)\n",
    "# test_X_Tfidf = Tfidf_vect.transform(test_X)\n",
    "# # # better "
   ]
  },
  {
   "cell_type": "code",
   "execution_count": 305,
   "metadata": {},
   "outputs": [],
   "source": [
    "# Tfidf_vect = TfidfVectorizer( norm='l2', encoding='latin-1', ngram_range=(1, 1))\n",
    "# Tfidf_vect.fit(df['text_final'])\n",
    "\n",
    "# train_X_Tfidf = Tfidf_vect.transform(train_X)\n",
    "# test_X_Tfidf = Tfidf_vect.transform(test_X)\n",
    "# dicey - not good "
   ]
  },
  {
   "cell_type": "code",
   "execution_count": 348,
   "metadata": {},
   "outputs": [],
   "source": [
    "# Tfidf_vect = TfidfVectorizer(sublinear_tf=True,min_df=4, norm='l2', encoding='latin-1', ngram_range=(1, 1))\n",
    "# # Tfidf_vect.fit(df['text_final'])\n",
    "\n",
    "# train_X_Tfidf = Tfidf_vect.transform(train_X)\n",
    "# test_X_Tfidf = Tfidf_vect.transform(test_X)"
   ]
  },
  {
   "cell_type": "code",
   "execution_count": 351,
   "metadata": {},
   "outputs": [],
   "source": [
    "Tfidf_vect = TfidfVectorizer(sublinear_tf=True, norm='l2', encoding='latin-1', ngram_range=(1, 2))\n",
    "Tfidf_vect.fit(df['text_final'])\n",
    "\n",
    "train_X_Tfidf = Tfidf_vect.transform(train_X)\n",
    "test_X_Tfidf = Tfidf_vect.transform(test_X)\n",
    "#  increasses bayes , svm  :- BEST "
   ]
  },
  {
   "cell_type": "code",
   "execution_count": 252,
   "metadata": {
    "collapsed": true
   },
   "outputs": [
    {
     "name": "stdout",
     "output_type": "stream",
     "text": [
      "{'say': 2259, 'list': 1479, 'political': 1900, 'group': 1112, 'support': 2490, 'abortion': 7, 'demand': 676, 'decline': 654, 'coal': 464, 'start': 2425, 'natural': 1674, 'gas': 1057, 'begin': 244, 'president': 1947, 'george': 1068, 'bush': 335, 'administration': 45, 'hillary': 1174, 'clinton': 456, 'agree': 75, 'john': 1358, 'mccain': 1572, 'vote': 2725, 'benefit': 253, 'doubt': 763, 'iran': 1316, 'health': 1151, 'care': 364, 'reform': 2097, 'legislation': 1450, 'likely': 1474, 'mandate': 1530, 'free': 1033, 'sex': 2313, 'change': 407, 'surgery': 2497, 'economic': 803, 'end': 844, 'term': 2544, 'chicago': 417, 'bear': 238, 'year': 2820, 'total': 2591, 'number': 1714, 'faculty': 934, 'decade': 647, 'jim': 1352, 'live': 1482, 'district': 745, 'represent': 2145, 'person': 1855, 'stage': 2420, 'work': 2805, 'actively': 33, 'rus': 2235, 'feingold': 959, 'tough': 2594, 'ethic': 886, 'million': 1617, 'oregon': 1759, 'lottery': 1501, 'fund': 1042, 'port': 1912, 'newport': 1693, 'eventually': 891, 'land': 1421, 'new': 1690, 'marine': 1544, 'operation': 1748, 'gop': 1090, 'primary': 1959, 'opponent': 1750, 'glenn': 1080, 'joe': 1357, 'cast': 375, 'compromise': 510, 'cost': 572, 'high': 1169, 'electricity': 826, 'time': 2579, 'history': 1180, 'share': 2317, 'national': 1669, 'popular': 1909, 'margin': 1542, 'small': 2366, 'latino': 1430, 'nearly': 1678, 'american': 105, 'middle': 1610, 'class': 446, 'poverty': 1926, 'affordable': 64, 'act': 30, 'sense': 2297, 'waive': 2732, 'suspend': 2505, 'election': 822, 'november': 1711, 'percent': 1842, 'people': 1841, 'choose': 426, 'young': 2824, 'worker': 2806, 'oppose': 1752, 'requirement': 2154, 'government': 1094, 'buy': 339, 'provision': 2012, 'quote': 2036, 'ron': 2218, 'kind': 1399, 'fellow': 960, 'democrat': 678, 'spending': 2402, 'spree': 2412, 'credit': 594, 'card': 363, 'maxed': 1567, 'water': 2753, 'rate': 2057, 'raise': 2046, 'world': 2811, 'bank': 214, 'owner': 1784, 'leave': 1445, 'puerto': 2018, 'woman': 2800, 'men': 1596, 'make': 1523, 'adjust': 44, 'inflation': 1271, 'kitzhaber': 1405, 'elect': 820, 'governor': 1095, 'united': 2665, 'state': 2426, 'corporate': 563, 'tax': 2524, 'best': 259, 'auto': 188, 'industry': 1266, 'america': 104, 'scott': 2272, 'walker': 2735, 'favor': 952, 'cut': 617, 'family': 941, 'child': 420, 'mitt': 1636, 'romney': 2215, 'want': 2738, 'rid': 2197, 'planned': 1883, 'parenthood': 1798, 'dont': 760, 'know': 1406, 'hate': 1147, 'crime': 595, 'muslim': 1664, 'mosque': 1651, 'triple': 2630, 'paris': 1799, 'san': 2247, 'rick': 2196, 'perry': 1853, 'lose': 1498, 'remain': 2129, 'texas': 2554, 'governorship': 1096, 'landslide': 1422, 'isi': 1323, 'supporter': 2491, 'tweet': 2643, 'shoot': 2328, 'youth': 2826, 'unemployment': 2658, 'minority': 1626, 'community': 497, 'paul': 1822, 'ryan': 2240, 'endorse': 845, 'trump': 2634, 'look': 1495, 'right': 2201, 'budget': 320, 'deficit': 665, 'good': 1088, 'business': 337, 'climate': 453, 'obama': 1719, 'come': 484, 'month': 1645, 'youre': 2825, 'able': 4, 'burn': 332, 'exist': 905, 'plant': 1885, 'today': 2582, 'pay': 1825, 'mark': 1545, 'pryor': 2014, 'federal': 957, 'think': 2566, 'authority': 186, 'regulate': 2112, 'toilet': 2584, 'seat': 2277, 'austin': 184, 'city': 441, 'basically': 229, 'double': 762, 'size': 2356, 'nuclear': 1713, 'test': 2550, 'conduct': 519, 'nation': 1668, 'earth': 796, 'permanent': 1849, 'member': 1593, 'security': 2285, 'council': 575, 'case': 372, 'event': 890, 'office': 1733, 'center': 390, 'disease': 740, 'control': 554, 'prevention': 1954, 'add': 40, 'trillion': 2627, 'debt': 645, 'weve': 2773, 'supreme': 2493, 'court': 585, 'justice': 1374, 'suggest': 2480, 'decide': 649, 'base': 226, 'south': 2388, 'african': 68, 'law': 1432, 'marco': 1539, 'rubio': 2226, 'skip': 2358, 'defense': 664, 'include': 1253, 'arm': 156, 'fight': 969, 'david': 634, 'cicilline': 434, 'responsible': 2167, 'loan': 1485, 'guarantee': 1116, 'failed': 936, 'solar': 2376, 'company': 499, 'ohio': 1738, 'item': 1332, 'later': 1429, 'sign': 2342, 'gov': 1092, 'kasich': 1380, 'require': 2153, 'seek': 2286, 'undergo': 2653, 'mandatory': 1531, 'probe': 1971, 'director': 723, 'homeland': 1189, 'use': 2679, 'attack': 174, 'instead': 1289, 'disaster': 730, 'hispanic': 1176, 'obamacare': 1720, 'provide': 2009, 'insurance': 1293, 'resident': 2159, 'illegally': 1230, 'barack': 219, 'exactly': 894, 'reduction': 2091, 'commission': 488, 'idea': 1223, 'rule': 2230, 'engagement': 852, 'probably': 1970, 'life': 1469, 'jail': 1335, 'flag': 991, 'romneys': 2217, 'book': 286, 'delete': 674, 'line': 1477, 'massachusetts': 1556, 'individual': 1264, 'model': 1638, 'country': 579, 'maggie': 1516, 'hassan': 1146, 'tuition': 2637, 'terry': 2549, 'mcauliffe': 1571, 'invent': 1307, 'scheme': 2263, 'rent': 2135, 'lincoln': 1476, 'create': 591, 'job': 1355, 'half': 1131, 'york': 2823, 'private': 1966, 'sector': 2283, 'town': 2597, 'west': 2771, 'truck': 2633, 'georgia': 1069, 'earn': 794, 'cent': 389, 'dollar': 753, 'verify': 2698, 'employee': 839, 'authorize': 187, 'way': 2754, 'build': 322, 'wall': 2736, 'ago': 74, 'long': 1493, 'like': 1473, 'environmental': 867, 'impact': 1239, 'statement': 2427, 'campaign': 346, 'announce': 117, 'cabinet': 341, 'register': 2107, 'actually': 37, 'turn': 2639, 'public': 2015, 'school': 2265, 'offer': 1732, 'republican': 2150, 'candidate': 353, 'economy': 805, 'military': 1614, 'harvard': 1145, 'elena': 828, 'kagan': 1376, 'position': 1917, 'teacher': 2529, 'mayor': 1569, 'providence': 2010, 'sanctuary': 2249, 'chance': 406, 'murder': 1661, 'bain': 208, 'capital': 357, 'help': 1163, 'early': 792, 'childhood': 421, 'learn': 1443, 'lady': 1419, 'michelle': 1608, 'praise': 1929, 'man': 1526, 'rush': 2236, 'social': 2372, 'medium': 1589, 'post': 1920, 'phil': 1865, 'gingrey': 1075, 'power': 1927, 'spy': 2414, 'warrant': 2745, 'alex': 92, 'sink': 2351, 'funnel': 1047, 'quarter': 2031, 'contract': 548, 'population': 1910, 'growth': 1114, 'virginia': 2716, 'net': 1686, 'zero': 2828, 'creation': 592, 'bob': 280, 'mcdonnell': 1577, 'home': 1188, 'value': 2692, 'florida': 998, 'collapse': 472, 'construction': 541, 'foreclosure': 1011, 'arizona': 154, 'immigration': 1238, 'police': 1897, 'officer': 1734, 'stop': 2446, 'appear': 131, 'undocumented': 2655, 'war': 2739, 'ii': 1227, 'factor': 932, 'drive': 779, 'recession': 2077, 'consumer': 543, 'native': 1672, 'save': 2256, 'saving': 2257, 'nominee': 1704, 'confirmation': 522, 'hearing': 1155, 'homeless': 1190, 'veteran': 2702, 'charlie': 411, 'crist': 598, 'medicare': 1586, 'advantage': 55, 'program': 1982, 'chinese': 424, 'large': 1426, 'wind': 2789, 'panel': 1795, 'manufacturing': 1537, 'europe': 888, 'brown': 317, 'let': 1458, 'employer': 840, 'deny': 683, 'coverage': 587, 'birth': 270, 'point': 1894, 'past': 1813, 'egypt': 815, 'great': 1103, 'democratic': 679, 'attention': 178, 'week': 2765, 'chris': 427, 'christie': 429, 'benghazi': 254, 'steve': 2441, 'shutdown': 2339, 'import': 1242, 'nurse': 1717, 'criminal': 596, 'transport': 2612, 'prison': 1964, 'day': 636, 'mass': 1555, 'incarceration': 1248, 'offender': 1730, 'plan': 1880, 'virtually': 2718, 'burden': 327, 'increase': 1255, 'major': 1521, 'phoenix': 1867, 'kidnap': 1396, 'belong': 250, 'commissioner': 489, 'poll': 1904, 'beat': 239, 'ronald': 2219, 'reagan': 2065, 'sent': 2298, 'troop': 2631, 'conflict': 523, 'circumstance': 436, 'jolly': 1362, 'privatize': 1968, 'low': 1504, 'depression': 691, 'average': 193, 'student': 2462, 'pocket': 1893, 'university': 2667, 'spend': 2401, 'effect': 810, 'mean': 1579, 'modify': 1641, 'mortgage': 1650, 'short': 2333, 'sale': 2246, 'lender': 1456, 'atlanta': 172, 'streetcar': 2454, 'expect': 910, 'minimum': 1621, 'wage': 2730, 'hour': 1206, 'lift': 1471, 'secretary': 2281, 'kerry': 1391, 'senator': 2294, 'fly': 1003, 'meet': 1591, 'communist': 496, 'dictator': 711, 'daniel': 628, 'accuse': 22, 'engage': 851, 'terrorism': 2547, 'nato': 1673, 'open': 1745, 'terror': 2546, 'division': 747, 'im': 1234, 'sure': 2494, 'largely': 1427, 'rating': 2058, 'investment': 1311, 'fee': 958, 'pension': 1839, 'annually': 120, 'grow': 1113, 'billion': 266, 'obamas': 1721, 'longer': 1494, 'lay': 1436, 'firefighter': 984, 'old': 1743, 'wisconsinite': 2793, 'receive': 2074, 'check': 415, 'search': 2276, 'current': 613, 'exemption': 903, 'premium': 1940, 'didnt': 712, 'irs': 1321, 'investigate': 1309, 'liberal': 1463, 'progressive': 1984, 'everybody': 892, 'fast': 947, 'pace': 1787, 'prime': 1960, 'minister': 1623, 'benjamin': 255, 'netanyahu': 1687, 'majority': 1522, 'marry': 1550, 'love': 1503, 'peter': 1861, 'socialist': 2373, 'openly': 1746, 'serve': 2306, 'congress': 524, 'rudy': 2228, 'giuliani': 1079, 'presidency': 1946, 'britain': 312, 'european': 889, 'union': 2663, 'americans': 106, 'medicaid': 1584, 'second': 2279, 'die': 713, 'duty': 789, 'college': 477, 'contribute': 551, 'shut': 2338, 'refund': 2100, 'victim': 2707, 'computer': 511, 'science': 2268, 'degree': 669, 'air': 83, 'force': 1010, 'taxpayer': 2526, 'football': 1009, 'league': 1441, 'hussein': 1219, 'accept': 14, 'islamic': 1325, 'sharia': 2318, 'domestic': 755, 'dispute': 743, 'commit': 490, 'gun': 1123, 'legally': 1449, 'purchase': 2022, 'neighborhood': 1684, 'close': 457, 'tell': 2539, 'gay': 1059, 'organizer': 1763, 'strong': 2459, 'advocate': 60, 'special': 2397, 'ted': 2534, 'kennedy': 1388, 'speaker': 2396, 'house': 1207, 'consistently': 537, 'halfway': 1132, 'goal': 1083, 'seven': 2311, 'bennet': 256, 'guantanamo': 1115, 'bay': 236, 'bring': 311, 'terrorist': 2548, 'colorado': 479, 'oregonian': 1760, 'amazing': 100, 'donation': 758, 'syrian': 2512, 'iraqi': 1319, 'research': 2156, 'vast': 2695, 'immigrant': 1237, 'believe': 249, 'source': 2387, 'thats': 2559, 'newt': 1696, 'gingrichs': 1077, 'amnesty': 109, 'career': 365, 'politician': 1901, 'rhode': 2190, 'island': 1327, 'temporary': 2541, 'disability': 725, 'jersey': 1347, 'exceed': 897, 'revenue': 2183, 'money': 1644, 'street': 2453, 'anybody': 124, 'donald': 756, 'ok': 1742, 'lobbyist': 1487, 'ban': 213, 'racial': 2038, 'send': 2295, 'coast': 466, 'guard': 1117, 'patrol': 1821, 'lake': 1420, 'border': 290, 'va': 2684, 'wait': 2731, 'rob': 2208, 'cornilles': 561, 'dan': 625, 'branch': 304, 'try': 2636, 'expand': 908, 'progress': 1983, 'improve': 1246, 'michigan': 1609, 'deposit': 690, 'afford': 63, 'profit': 1981, 'admit': 49, 'general': 1063, 'education': 807, 'fought': 1020, 'developer': 707, 'drain': 769, 'johnson': 1359, 'ponzi': 1907, 'type': 2646, 'policy': 1899, 'pass': 1811, 'refer': 2093, 'north': 1707, 'carolina': 367, 'directly': 722, 'relate': 2118, 'electric': 825, 'car': 361, 'china': 423, 'sarah': 2253, 'highly': 1171, 'respect': 2163, 'refuse': 2102, 'consider': 535, 'remove': 2131, 'library': 1464, 'illegal': 1229, 'write': 2818, 'letter': 1459, 'proposal': 1995, 'cause': 382, 'decrease': 655, 'mexican': 1604, 'citizen': 439, 'statistic': 2431, 'veto': 2703, 'package': 1789, 'mining': 1622, 'illinois': 1232, 'gubernatorial': 1118, 'brady': 300, 'priority': 1963, 'win': 2788, 'sponsor': 2407, 'dog': 752, 'cat': 377, 'chamber': 403, 'fail': 935, 'action': 31, 'peak': 1831, 'trail': 2606, 'rest': 2168, 'consecutive': 531, 'thomas': 2568, 'eric': 874, 'temperature': 2540, 'afghanistan': 65, 'foreign': 1012, 'price': 1958, 'webster': 2763, 'form': 1014, 'marriage': 1548, 'relationship': 2120, 'judge': 1367, 'lot': 1500, 'casino': 374, 'bankrupt': 216, 'senior': 2296, 'kid': 1395, 'arrest': 159, 'leader': 1439, 'area': 149, 'rank': 2050, 'oil': 1741, 'rig': 2200, 'combine': 482, 'payday': 1827, 'poor': 1908, 'charge': 408, 'trust': 2635, 'sound': 2386, 'function': 1041, 'commitment': 491, 'voter': 2726, 'seriously': 2305, 'incumbent': 1257, 'break': 309, 'pledge': 1889, 'strickland': 2455, 'income': 1254, 'hike': 1173, 'defeat': 662, 'americas': 107, 'percentage': 1843, 'bar': 218, 'petraeus': 1864, 'army': 158, 'method': 1601, 'club': 460, 'enemy': 847, 'order': 1756, 'carbon': 362, 'single': 2350, 'block': 276, 'january': 1337, 'male': 1524, 'baby': 198, 'strike': 2457, 'syria': 2511, 'assad': 163, 'chemical': 416, 'weapon': 2759, 'cash': 373, 'clunkers': 461, 'local': 1488, 'gut': 1125, 'recognize': 2080, 'real': 2066, 'dewhurst': 710, 'record': 2084, 'promote': 1989, 'beach': 237, 'operate': 1747, 'mind': 1620, 'conclude': 515, 'kill': 1397, 'lead': 1438, 'pack': 1788, 'access': 15, 'core': 560, 'accord': 18, 'agency': 70, 'propose': 1996, 'away': 196, 'tom': 2586, 'big': 264, 'ready': 2064, 'chief': 419, 'median': 1583, 'milwaukee': 1619, 'barrett': 224, 'hold': 1183, 'property': 1993, 'representative': 2147, 'contribution': 552, 'unlike': 2669, 'washington': 2747, 'assembly': 165, 'bipartisan': 269, 'josh': 1366, 'mandel': 1532, 'lie': 1467, 'ohios': 1740, 'lease': 1444, 'drilling': 776, 'hide': 1168, 'possible': 1919, 'turnpike': 2641, 'beginning': 245, 'surplus': 2499, 'project': 1986, 'nomination': 1703, 'confirm': 521, 'trip': 2629, 'east': 798, 'county': 581, 'settle': 2310, 'lawsuit': 1434, 'decision': 651, 'sheriff': 2323, 'correction': 566, 'deputy': 693, 'department': 684, 'fbi': 953, 'james': 1336, 'discuss': 738, 'investigation': 1310, 'effective': 811, 'biden': 263, 'gulf': 1122, 'surge': 2496, 'iraq': 1318, 'clear': 449, 'hed': 1159, 'succeed': 2473, 'wasnt': 2748, 'perdue': 1845, 'abolish': 5, 'eliminate': 830, 'campus': 347, 'twice': 2644, 'graduate': 1098, 'theyve': 2564, 'score': 2271, 'flat': 992, 'affect': 62, 'thousand': 2570, 'party': 1808, 'cornyn': 562, 'greg': 1108, 'abbott': 1, 'healthcare': 1152, 'gdp': 1061, 'mile': 1613, 'closer': 458, 'need': 1679, 'photo': 1869, 'id': 1222, 'housing': 1209, 'portland': 1914, 'allow': 97, 'payroll': 1829, 'holiday': 1186, 'expire': 917, 'estimate': 883, 'nafta': 1665, 'trade': 2601, 'pennsylvania': 1837, 'numerous': 1715, 'study': 2464, 'generate': 1064, 'gross': 1110, 'product': 1977, 'historically': 1179, 'affair': 61, 'scandal': 2261, 'response': 2165, 'hear': 1154, 'christmas': 430, 'extremist': 925, 'sherrod': 2324, 'stimulus': 2443, 'specifically': 2399, 'lower': 1505, 'claim': 445, 'rich': 2193, 'universal': 2666, 'background': 200, 'soldier': 2377, 'throw': 2573, 'legal': 1447, 'challenge': 401, 'reject': 2117, 'unconstitutional': 2652, 'reduce': 2090, 'warren': 2746, 'buffett': 321, 'lemieux': 1455, 'precinct': 1933, 'allen': 96, 'murphy': 1662, 'recount': 2085, 'kathleen': 1382, 'determine': 702, 'patient': 1818, 'repeatedly': 2141, 'enforcement': 850, 'data': 629, 'personal': 1856, 'tenure': 2543, 'saw': 2258, 'houston': 1210, 'drop': 783, 'level': 1460, 'columbia': 480, 'senate': 2293, 'millionaire': 1618, 'solution': 2378, 'crisis': 597, 'vacation': 2687, 'promise': 1988, 'foundation': 1021, 'staff': 2418, 'female': 964, 'violence': 2714, 'adopt': 50, 'fall': 940, 'question': 2032, 'warning': 2744, 'minute': 1627, 'legalize': 1448, 'pregnancy': 1938, 'borrow': 291, 'saudi': 2255, 'result': 2175, 'welcome': 2767, 'whos': 2780, 'gain': 1049, 'entire': 863, 'difference': 714, 'previous': 1956, 'thing': 2565, 'head': 1149, 'dairy': 622, 'workforce': 2807, 'nationwide': 1671, 'portman': 1915, 'dekalb': 670, 'palin': 1794, 'pat': 1815, 'energy': 848, 'production': 1978, 'jeanne': 1340, 'shaheen': 2316, 'measure': 1581, 'strict': 2456, 'skyrocket': 2359, 'penalty': 1835, 'workplace': 2810, 'gender': 1062, 'discrimination': 737, 'infrastructure': 1274, 'proper': 1992, 'collective': 476, 'target': 2521, 'december': 648, 'period': 1848, 'difficult': 716, 'hire': 1175, 'increased': 1256, 'cbo': 383, 'congressional': 525, 'thompson': 2569, 'cap': 355, 'damage': 624, 'fiscal': 986, 'reserve': 2157, 'strategic': 2451, 'uninsured': 2662, 'firearm': 983, 'homicide': 1192, 'permit': 1852, 'ultrasound': 2650, 'harbor': 1141, 'common': 493, 'pill': 1875, 'jason': 1339, 'kander': 1378, 'suspected': 2504, 'donate': 757, 'memphis': 1595, 'intelligence': 1296, 'official': 1735, 'threat': 2571, 'absolutely': 9, 'july': 1370, 'locate': 1489, 'daughter': 632, 'partner': 1806, 'blame': 275, 'mike': 1612, 'nancy': 1666, 'pelosi': 1833, 'straight': 2450, 'beneficiary': 252, 'account': 19, 'transfer': 2610, 'place': 1879, 'internet': 1301, 'report': 2143, 'play': 1887, 'ryans': 2241, 'connie': 530, 'mack': 1513, 'miss': 1630, 'eisenhower': 817, 'personnel': 1858, 'wisconsin': 2792, 'counterpart': 578, 'airplane': 85, 'flow': 1001, 'wont': 2803, 'default': 661, 'homeowner': 1191, 'practice': 1928, 'wipe': 2791, 'brand': 305, 'condition': 517, 'push': 2025, 'pressure': 1950, 'approximately': 145, 'pound': 1925, 'square': 2415, 'inch': 1251, 'unlimited': 2670, 'moment': 1643, 'funding': 1043, 'refugee': 2099, 'obtain': 1724, 'scholarship': 2264, 'attend': 176, 'star': 2424, 'hook': 1198, 'stadium': 2417, 'repay': 2137, 'missouri': 1634, 'refinance': 2095, 'resolution': 2161, 'condemn': 516, 'behavior': 247, 'entirely': 864, 'recent': 2075, 'international': 1300, 'near': 1677, 'industrialized': 1265, 'academic': 12, 'achievement': 24, 'doctor': 749, 'theyre': 2563, 'sick': 2341, 'owe': 1783, 'situation': 2354, 'arkansas': 155, 'train': 2607, 'fully': 1039, 'extend': 922, 'ceiling': 385, 'cover': 586, 'despite': 698, 'conservative': 534, 'mahmoud': 1517, 'establish': 880, 'vladimir': 2723, 'putin': 2026, 'board': 279, 'appointee': 137, 'jefferson': 1343, 'textbook': 2555, 'standard': 2423, 'historical': 1178, 'figure': 971, 'salary': 2245, 'ca': 340, 'pull': 2019, 'matter': 1565, 'physically': 1870, 'wealth': 2757, 'penny': 1838, 'foster': 1019, 'ineffective': 1267, 'cell': 387, 'phone': 1868, 'negotiation': 1682, 'clackamas': 444, 'approve': 144, 'agreement': 76, 'countys': 582, 'light': 1472, 'rail': 2044, 'different': 715, 'felony': 962, 'dramatically': 771, 'annual': 119, 'registration': 2109, 'impose': 1244, 'camp': 345, 'deal': 639, 'anytime': 126, 'defend': 663, 'reformer': 2098, 'countrys': 580, 'civil': 442, 'postal': 1921, 'service': 2307, 'financial': 979, 'loss': 1499, 'delay': 671, 'opposition': 1753, 'amendment': 103, 'confederate': 520, 'battle': 233, 'building': 323, 'gift': 1074, 'shop': 2331, 'shes': 2325, 'hurt': 1217, 'lee': 1446, 'generation': 1065, 'spot': 2409, 'planet': 1882, 'google': 1089, 'iron': 1320, 'ore': 1758, 'northern': 1709, 'waste': 2750, 'black': 274, 'wealthy': 2758, 'graduation': 1099, 'sell': 2290, 'seller': 2291, 'online': 1744, 'deadly': 638, 'manage': 1527, 'bad': 202, 'floridian': 1000, 'repeal': 2138, 'congressman': 526, 'option': 1755, 'lawmaker': 1433, 'effort': 814, 'draw': 772, 'rape': 2053, 'incest': 1250, 'minor': 1625, 'issue': 1331, 'offshore': 1737, 'medical': 1585, 'marijuana': 1543, 'opt': 1754, 'enact': 842, 'predator': 1934, 'abuser': 11, 'carry': 369, 'concealed': 513, 'treasurer': 2616, 'management': 1528, 'oversight': 1778, 'charter': 412, 'apply': 135, 'municipal': 1660, 'roughly': 2222, 'ri': 2191, 'nathan': 1667, 'hope': 1200, 'literally': 1480, 'georgian': 1070, 'technical': 2532, 'training': 2608, 'havent': 1148, 'ive': 1333, 'teach': 2528, 'reach': 2061, 'disclosure': 733, 'huge': 1212, 'influence': 1272, 'legislative': 1451, 'arabia': 148, 'attorney': 179, 'prosecute': 1998, 'adult': 52, 'negotiate': 1681, 'reflect': 2096, 'actual': 36, 'labor': 1416, 'convict': 557, 'oversee': 1777, 'raid': 2043, 'retirement': 2179, 'balance': 209, 'battlefield': 234, 'green': 1105, 'player': 1888, 'republic': 2149, 'civilian': 443, 'faster': 948, 'restaurant': 2169, 'proportion': 1994, 'vehicle': 2697, 'prevent': 1952, 'airport': 86, 'store': 2447, 'bulb': 324, 'row': 2224, 'carter': 371, 'press': 1949, 'patrick': 1819, 'problem': 1972, 'suicide': 2481, 'additional': 42, 'agent': 72, 'master': 1559, 'lock': 1491, 'run': 2232, 'reed': 2092, 'projection': 1987, 'overhaul': 1774, 'frank': 1028, 'brag': 301, 'independent': 1259, 'shooting': 2330, 'course': 584, 'earmark': 793, 'talk': 2515, 'relocate': 2127, 'headquarters': 1150, 'california': 342, 'prop': 1991, 'film': 974, 'harassment': 1140, 'toll': 2585, 'privilege': 1969, 'cross': 603, 'bridge': 310, 'sen': 2292, 'estate': 882, 'legislature': 1453, 'kay': 1384, 'bailey': 205, 'hutchison': 1220, 'mary': 1553, 'burke': 331, 'reporter': 2144, 'partisan': 1805, 'pick': 1872, 'multiple': 1658, 'regular': 2111, 'convention': 555, 'rise': 2202, 'poison': 1895, 'clean': 448, 'complicate': 506, 'comply': 507, 'code': 469, 'prayer': 1931, 'room': 2220, 'rug': 2229, 'pray': 1930, 'drug': 785, 'gang': 1053, 'motor': 1654, 'ask': 161, 'england': 854, 'grant': 1102, 'institution': 1291, 'miami': 1606, 'carlos': 366, 'drill': 775, 'ability': 3, 'pollution': 1906, 'combat': 481, 'disclose': 732, 'donor': 759, 'usa': 2677, 'continue': 546, 'rand': 2049, 'billionaire': 267, 'super': 2486, 'pac': 1786, 'collect': 474, 'intend': 1297, 'recover': 2086, 'newly': 1692, 'payment': 1828, 'advisory': 59, 'park': 1800, 'dome': 754, 'little': 1481, 'red': 2088, 'camera': 344, 'accident': 16, 'pastor': 1814, 'sexual': 2314, 'guilty': 1121, 'jobless': 1356, 'colleague': 473, 'crack': 588, 'attract': 180, 'gingrich': 1076, 'procedure': 1973, 'global': 1081, 'aid': 80, 'recipient': 2079, 'thanks': 2558, 'award': 195, 'date': 631, 'pupil': 2021, 'compare': 501, 'path': 1817, 'citizenship': 440, 'welfare': 2768, 'tammy': 2516, 'baldwin': 211, 'introduce': 1305, 'lesbian': 1457, 'acorn': 27, 'trading': 2602, 'slavery': 2362, 'girl': 1078, 'survey': 2501, 'transit': 2611, 'age': 69, 'completely': 505, 'june': 1372, 'hard': 1142, 'region': 2106, 'fair': 938, 'fact': 931, 'reid': 2115, 'rebecca': 2071, 'bradley': 299, 'diploma': 719, 'implement': 1240, 'exchange': 899, 'tape': 2520, 'feature': 954, 'minnesota': 1624, 'cory': 570, 'booker': 287, 'safety': 2244, 'regulation': 2113, 'modern': 1640, 'release': 2123, 'return': 2180, 'export': 921, 'korea': 1409, 'market': 1546, 'farmer': 946, 'provider': 2011, 'suffer': 2479, 'luxury': 1508, 'tim': 2578, 'kaine': 1377, 'chairman': 400, 'easy': 799, 'jet': 1349, 'space': 2393, 'sanction': 2248, 'theres': 2561, 'hampshire': 1136, 'working': 2808, 'rack': 2040, 'creator': 593, 'stay': 2434, 'intervene': 1303, 'libya': 1465, 'cleveland': 451, 'nationally': 1670, 'bernie': 258, 'sander': 2250, 'stand': 2422, 'hunt': 1214, 'incentive': 1249, 'violent': 2715, 'available': 192, 'exxon': 926, 'aarp': 0, 'monthly': 1646, 'read': 2062, 'grade': 1097, 'cuyahoga': 618, 'clinic': 455, 'critical': 600, 'emergency': 836, 'zika': 2829, 'trouble': 2632, 'pet': 1859, 'occupy': 1726, 'protester': 2005, 'forward': 1018, 'parole': 1801, 'fisher': 988, 'watch': 2752, 'limit': 1475, 'contraception': 547, 'cheap': 413, 'define': 666, 'grocery': 1109, 'flood': 996, 'pork': 1911, 'protect': 2002, 'warner': 2743, 'prohibit': 1985, 'prescription': 1943, 'essentially': 879, 'massive': 1558, 'typical': 2647, 'white': 2776, 'treaty': 2620, 'certainly': 396, 'registry': 2110, 'set': 2309, 'math': 1564, 'apprehend': 139, 'pakistan': 1792, 'taveras': 2523, 'kendrick': 1387, 'meek': 1590, 'advanced': 54, 'dead': 637, 'soda': 2375, 'philadelphia': 1866, 'tobacco': 2581, 'childrens': 422, 'smoke': 2369, 'ninety': 1699, 'texan': 2553, 'nursing': 1718, 'politics': 1902, 'staffer': 2419, 'kasichs': 1381, 'committee': 492, 'race': 2037, 'participate': 1802, 'hurricane': 1216, 'katrina': 1383, 'god': 1084, 'catholic': 380, 'church': 432, 'stock': 2444, 'rival': 2205, 'founder': 1022, 'nelson': 1685, 'interview': 1304, 'produce': 1976, 'dropout': 784, 'stem': 2438, 'example': 896, 'successful': 2475, 'treatment': 2619, 'dane': 626, 'hand': 1137, 'count': 577, 'presidential': 1948, 'ambassador': 101, 'stevens': 2442, 'request': 2152, 'household': 1208, 'retire': 2177, 'friend': 1037, 'switch': 2508, 'agriculture': 77, 'usage': 2678, 'instance': 1288, 'harm': 1143, 'death': 642, 'information': 1273, 'accumulate': 21, 'africa': 67, 'hospital': 1202, 'century': 392, 'initially': 1276, 'yes': 2822, 'folk': 1005, 'correct': 565, 'submit': 2467, 'address': 43, 'commonly': 494, 'language': 1425, 'generous': 1066, 'opinion': 1749, 'transportation': 2613, 'referendum': 2094, 'criticize': 601, 'constitution': 539, 'trigger': 2626, 'shot': 2335, 'vaccine': 2690, 'recently': 2076, 'pregnant': 1939, 'executive': 901, 'legislator': 1452, 'assault': 164, 'bond': 284, 'platform': 1886, 'democrats': 680, 'cop': 559, 'honor': 1196, 'repeated': 2140, 'failure': 937, 'various': 2694, 'buck': 319, 'mccollum': 1573, 'nra': 1712, 'leadership': 1440, 'pretty': 1951, 'turkey': 2638, 'arab': 147, 'hiv': 1182, 'osama': 1767, 'bin': 268, 'laden': 1418, 'drone': 782, 'finally': 977, 'inmate': 1279, 'classroom': 447, 'suppose': 2492, 'designate': 696, 'aclu': 26, 'newark': 1691, 'immediate': 1235, 'vaccinate': 2688, 'highway': 1172, 'el': 818, 'paso': 1810, 'bullet': 325, 'competitive': 503, 'electorate': 824, 'sic': 2340, 'extra': 923, 'session': 2308, 'desk': 697, 'protest': 2004, 'renacci': 2132, 'daily': 621, 'expense': 913, 'franklin': 1029, 'roosevelt': 2221, 'deport': 688, 'dreamer': 774, 'apparently': 129, 'vet': 2701, 'defund': 668, 'piece': 1874, 'champion': 404, 'storm': 2448, 'france': 1026, 'blue': 278, 'indicator': 1263, 'predict': 1936, 'positive': 1918, 'fourth': 1023, 'advance': 53, 'perform': 1847, 'backlog': 201, 'view': 2711, 'mccrory': 1575, 'adviser': 57, 'romneycare': 2216, 'constitutional': 540, 'ballot': 212, 'especially': 878, 'apologize': 127, 'shrink': 2337, 'hole': 1185, 'argument': 153, 'caput': 360, 'developed': 706, 'switzerland': 2509, 'rainy': 2045, 'infant': 1269, 'follow': 1006, 'spouse': 2410, 'paycheck': 1826, 'pump': 2020, 'pose': 1916, 'risk': 2203, 'craft': 589, 'surround': 2500, 'offense': 1731, 'invest': 1308, 'dallas': 623, 'los': 1497, 'angeles': 113, 'detroit': 703, 'host': 1203, 'tree': 2621, 'heavily': 1157, 'deploy': 687, 'superintendent': 2487, 'gutted': 1126, 'travis': 2615, 'ignore': 1226, 'achieve': 23, 'exempt': 902, 'potentially': 1924, 'lynch': 1509, 'team': 2530, 'whitewater': 2778, 'corruption': 568, 'rally': 2047, 'precedent': 1932, 'slow': 2364, 'deliver': 675, 'jack': 1334, 'driver': 780, 'license': 1466, 'mexico': 1605, 'central': 391, 'gasoline': 1058, 'fuel': 1038, 'richard': 2194, 'burr': 333, 'insider': 1283, 'brave': 307, 'christian': 428, 'vermont': 2699, 'sentence': 2299, 'couple': 583, 'email': 832, 'tarp': 2522, 'treasury': 2617, 'treat': 2618, 'game': 1052, 'registered': 2108, 'haiti': 1130, 'gold': 1085, 'medal': 1582, 'accountability': 20, 'choice': 425, 'ohioan': 1739, 'reveal': 2182, 'residency': 2158, 'hidden': 1167, 'user': 2680, 'expert': 916, 'al': 88, 'qaeda': 2027, 'kelly': 1385, 'ayotte': 197, 'lobby': 1486, 'network': 1688, 'financing': 980, 'aircraft': 84, 'carrier': 368, 'sheet': 2319, 'independence': 1258, 'efficiency': 813, 'loophole': 1496, 'toy': 2599, 'boston': 292, 'roy': 2225, 'refusal': 2101, 'restriction': 2173, 'goldman': 1086, 'sachs': 2242, 'news': 1694, 'story': 2449, 'michael': 1607, 'williams': 2786, 'tea': 2527, 'harry': 1144, 'alien': 93, 'equal': 869, 'rubios': 2227, 'citation': 437, 'respond': 2164, 'corporation': 564, 'redistricting': 2089, 'mention': 1598, 'running': 2233, 'mate': 1562, 'soar': 2370, 'relief': 2124, 'smith': 2368, 'bailout': 206, 'assure': 171, 'bailouts': 207, 'happen': 1139, 'direct': 720, 'parent': 1797, 'india': 1260, 'entitlement': 865, 'voting': 2727, 'opportunity': 1751, 'ocean': 1728, 'processing': 1975, 'facility': 930, 'associate': 169, 'greenhouse': 1107, 'initiative': 1277, 'eligible': 829, 'really': 2068, 'sandy': 2251, 'atlantic': 173, 'gwinnett': 1128, 'henry': 1164, 'debate': 643, 'toomey': 2589, 'jeb': 1341, 'suit': 2482, 'tie': 2575, 'subsidy': 2470, 'hotel': 1205, 'jump': 1371, 'walmart': 2737, 'compact': 498, 'consistent': 536, 'moderate': 1639, 'langevin': 1424, 'partnership': 1807, 'barbara': 220, 'boxer': 295, 'worry': 2813, 'weather': 2761, 'overwhelmingly': 1782, 'catch': 378, 'author': 185, 'prisoner': 1965, 'islamist': 1326, 'approval': 143, 'restrictive': 2174, 'fatality': 950, 'felon': 961, 'threaten': 2572, 'bomb': 283, 'jerry': 1346, 'ed': 806, 'recommend': 2081, 'enforce': 849, 'israel': 1330, 'draft': 768, 'ratio': 2059, 'wed': 2764, 'turnout': 2640, 'experience': 915, 'doesnt': 751, 'kenya': 1390, 'resign': 2160, 'visit': 2721, 'tampa': 2517, 'strip': 2458, 'bicycle': 262, 'constituent': 538, 'cuba': 607, 'link': 1478, 'far': 944, 'protection': 2003, 'earlier': 791, 'sexually': 2315, 'capitol': 358, 'supervisor': 2488, 'roll': 2214, 'withdraw': 2795, 'cantor': 354, 'appoint': 136, 'stamp': 2421, 'farm': 945, 'significant': 2344, 'particularly': 1804, 'march': 1538, 'revolution': 2187, 'spanish': 2394, 'tv': 2642, 'process': 1974, 'objective': 1723, 'resource': 2162, 'body': 281, 'helicopter': 1161, 'ammunition': 108, 'video': 2709, 'manufacturer': 1536, 'franchise': 1027, 'dealer': 640, 'prior': 1962, 'rifle': 2199, 'round': 2223, 'handgun': 1138, 'basketball': 231, 'coach': 463, 'floridas': 999, 'alcohol': 91, 'bureaucrat': 330, 'keystone': 1393, 'xl': 2819, 'pipeline': 1878, 'speech': 2400, 'takeover': 2514, 'quite': 2035, 'percentof': 1844, 'taxed': 2525, 'permission': 1851, 'medicine': 1588, 'shortfall': 2334, 'certain': 395, 'weekend': 2766, 'flight': 995, 'bail': 204, 'costly': 573, 'sixth': 2355, 'fine': 981, 'studio': 2463, 'soccer': 2371, 'pending': 1836, 'nunn': 1716, 'agenda': 71, 'lack': 1417, 'deportation': 689, 'museum': 1663, 'isnt': 1329, 'sequestration': 2303, 'fort': 1016, 'hood': 1197, 'advisor': 58, 'ceo': 393, 'physician': 1871, 'distribute': 744, 'food': 1007, 'magazine': 1515, 'king': 1401, 'deer': 660, 'ally': 98, 'sean': 2275, 'duffy': 787, 'hall': 1133, 'meeting': 1592, 'consent': 532, 'horse': 1201, 'key': 1392, 'smart': 2367, 'website': 2762, 'launch': 1431, 'detainee': 701, 'birther': 271, 'equivalent': 872, 'barrow': 225, 'celebrate': 386, 'ownership': 1785, 'face': 928, 'justify': 1375, 'automobile': 191, 'important': 1243, 'expansion': 909, 'injury': 1278, 'assistance': 168, 'disgrace': 741, 'insure': 1294, 'preference': 1937, 'significantly': 2345, 'reading': 2063, 'employment': 841, 'scale': 2260, 'unelected': 2656, 'similar': 2347, 'religious': 2126, 'freedom': 1034, 'restoration': 2170, 'declare': 653, 'qualify': 2029, 'healthy': 1153, 'milk': 1615, 'elementary': 827, 'jeff': 1342, 'bp': 297, 'plummet': 1891, 'thom': 2567, 'tillis': 2577, 'bible': 261, 'medication': 1587, 'secretly': 2282, 'torture': 2590, 'cartel': 370, 'rebate': 2070, 'missile': 1631, 'russia': 2238, 'voucher': 2728, 'professional': 1979, 'violate': 2712, 'huckabee': 1211, 'status': 2433, 'caucus': 381, 'traffic': 2604, 'apple': 133, 'currently': 614, 'ukraine': 2648, 'responsibility': 2166, 'catherine': 379, 'cortez': 569, 'masto': 1560, 'worth': 2815, 'firm': 985, 'fraud': 1031, 'historic': 1177, 'restrict': 2172, 'revolutionary': 2188, 'guy': 1127, 'blow': 277, 'secret': 2280, 'combined': 483, 'fishing': 989, 'fin': 975, 'violation': 2713, 'canada': 348, 'barnes': 222, 'anymore': 125, 'uncompensated': 2651, 'track': 2600, 'travel': 2614, 'hostage': 1204, 'heroin': 1165, 'addiction': 41, 'abuse': 10, 'baucus': 235, 'max': 1566, 'van': 2693, 'identification': 1224, 'greene': 1106, 'statewide': 2429, 'adoption': 51, 'fulton': 1040, 'wendy': 2769, 'davis': 635, 'iranian': 1317, 'virginias': 2717, 'fighter': 970, 'dozen': 767, 'indiana': 1261, 'subject': 2466, 'sit': 2352, 'tourism': 2596, 'advertising': 56, 'overall': 1773, 'twitter': 2645, 'balanced': 210, 'frankly': 1030, 'sue': 2478, 'portion': 1913, 'compensation': 502, 'bruce': 318, 'braley': 303, 'abraham': 8, 'ebay': 801, 'whitman': 2779, 'separate': 2300, 'slash': 2360, 'predecessor': 1935, 'govern': 1093, 'judicial': 1368, 'development': 708, 'cheat': 414, 'association': 170, 'slave': 2361, 'eye': 927, 'perfect': 1846, 'substance': 2471, 'attempt': 175, 'passage': 1812, 'future': 1048, 'expensive': 914, 'husband': 1218, 'charitable': 409, 'vega': 2696, 'boehner': 282, 'commercial': 487, 'debbie': 644, 'wasserman': 2749, 'schultz': 2267, 'ill': 1228, 'analysis': 110, 'anniversary': 116, 'sunday': 2485, 'usually': 2681, 'animal': 114, 'negative': 1680, 'holder': 1184, 'involve': 1314, 'richmond': 2195, 'clearly': 450, 'exonerate': 907, 'retiree': 2178, 'contributor': 553, 'machine': 1512, 'field': 967, 'bonus': 285, 'shooter': 2329, 'reason': 2069, 'simply': 2349, 'river': 2206, 'rice': 2192, 'acre': 29, 'enter': 861, 'kindergarten': 1400, 'dental': 681, 'ken': 1386, 'wish': 2794, 'recall': 2073, 'petition': 1863, 'signature': 2343, 'prove': 2007, 'wife': 2782, 'television': 2538, 'plane': 1881, 'late': 1428, 'pursue': 2024, 'dream': 773, 'koch': 1408, 'publicly': 2016, 'wouldnt': 2816, 'october': 1729, 'silent': 2346, 'speak': 2395, 'edward': 809, 'fox': 1024, 'repeat': 2139, 'cite': 438, 'barrel': 223, 'ad': 38, 'comment': 485, 'census': 388, 'islander': 1328, 'radio': 2042, 'lawyer': 1435, 'freeze': 1035, 'jon': 1363, 'cruz': 605, 'eighty': 816, 'zone': 2830, 'expenditure': 912, 'russian': 2239, 'crop': 602, 'ethanol': 885, 'mail': 1518, 'tonight': 2588, 'santorum': 2252, 'interstate': 1302, 'road': 2207, 'cotton': 574, 'navy': 1675, 'ship': 2327, 'tour': 2595, 'join': 1360, 'secure': 2284, 'grand': 1100, 'valley': 2691, 'living': 1483, 'organization': 1761, 'joni': 1365, 'ernst': 876, 'certificate': 397, 'canadian': 349, 'mcdonalds': 1576, 'safe': 2243, 'fifth': 968, 'felt': 963, 'hop': 1199, 'crash': 590, 'contain': 545, 'robert': 2210, 'quality': 2030, 'pentagon': 1840, 'faith': 939, 'cobb': 467, 'ultimately': 2649, 'pas': 1809, 'golf': 1087, 'memorial': 1594, 'ceremony': 394, 'dangerous': 627, 'broward': 316, 'northeast': 1708, 'identify': 1225, 'ensure': 860, 'quickly': 2033, 'commerce': 486, 'rare': 2055, 'depend': 685, 'answer': 121, 'mirror': 1628, 'disagree': 728, 'permanently': 1850, 'bargaining': 221, 'destroy': 699, 'mitch': 1635, 'mcconnell': 1574, 'tommy': 2587, 'human': 1213, 'granite': 1101, 'gardner': 1056, 'outlaw': 1769, 'birthright': 272, 'brother': 314, 'appearance': 132, 'steadily': 2435, 'connecticut': 528, 'internal': 1299, 'shore': 2332, 'original': 1765, 'trafficking': 2605, 'dime': 717, 'paper': 1796, 'weaken': 2756, 'regulatory': 2114, 'impossible': 1245, 'simple': 2348, 'cancer': 351, 'screening': 2274, 'alternative': 99, 'regard': 2103, 'flaw': 993, 'deep': 659, 'ebola': 802, 'sequester': 2302, 'testing': 2552, 'consume': 542, 'bureau': 328, 'attribute': 181, 'understand': 2654, 'warn': 2742, 'english': 855, 'audit': 182, 'religion': 2125, 'replace': 2142, 'emission': 837, 'freshman': 1036, 'exception': 898, 'maine': 1520, 'mother': 1653, 'preventive': 1955, 'ranking': 2051, 'bunch': 326, 'korean': 1410, 'bag': 203, 'stephen': 2440, 'metro': 1602, 'remember': 2130, 'contractor': 549, 'tap': 2519, 'tennessee': 2542, 'recovery': 2087, 'merit': 1599, 'reward': 2189, 'corzine': 571, 'finance': 978, 'illegals': 1231, 'bracket': 298, 'color': 478, 'unprecedented': 2672, 'vacancy': 2685, 'plot': 1890, 'lois': 1492, 'nonprofit': 1706, 'patriot': 1820, 'fundraiser': 1045, 'uniform': 2661, 'pen': 1834, 'schrader': 2266, 'explain': 918, 'supply': 2489, 'cnn': 462, 'casualty': 376, 'texting': 2556, 'restore': 2171, 'inherit': 1275, 'repair': 2136, 'lane': 1423, 'dedicate': 656, 'analyst': 111, 'killer': 1398, 'commonwealth': 495, 'bed': 240, 'collection': 475, 'downtown': 765, 'vice': 2706, 'kirk': 1403, 'deprive': 692, 'lunch': 1506, 'direction': 721, 'incident': 1252, 'prosecutor': 2000, 'consumption': 544, 'walk': 2734, 'nixon': 1701, 'allan': 94, 'fung': 1046, 'structural': 2460, 'administrative': 46, 'site': 2353, 'busy': 338, 'mental': 1597, 'wo': 2798, 'employ': 838, 'habit': 1129, 'uranium': 2674, 'capability': 356, 'location': 1490, 'pot': 1922, 'door': 761, 'fix': 990, 'art': 160, 'instruction': 1292, 'witness': 2797, 'antonio': 123, 'hedge': 1160, 'manager': 1529, 'ahead': 78, 'marketplace': 1547, 'secede': 2278, 'relation': 2119, 'moon': 1647, 'mammogram': 1525, 'ice': 1221, 'honduras': 1195, 'pain': 1791, 'basis': 230, 'fracking': 1025, 'review': 2185, 'occasion': 1725, 'forest': 1013, 'bowl': 294, 'begich': 243, 'drunk': 786, 'driving': 781, 'iowa': 1315, 'input': 1281, 'somebody': 2380, 'unit': 2664, 'downgrade': 764, 'brazil': 308, 'explore': 919, 'automatic': 189, 'islam': 1324, 'elimination': 831, 'manufacture': 1535, 'shift': 2326, 'basic': 228, 'cold': 471, 'millennials': 1616, 'provisional': 2013, 'adam': 39, 'segment': 2287, 'beer': 242, 'aggressive': 73, 'rural': 2234, 'fence': 965, 'inspection': 1285, 'tank': 2518, 'multnomah': 1659, 'disable': 726, 'slot': 2363, 'outsource': 1772, 'outside': 1771, 'connection': 529, 'czar': 619, 'overseas': 1776, 'tremendous': 2622, 'proud': 2006, 'sotomayor': 2385, 'fortune': 1017, 'organize': 1762, 'formula': 1015, 'gaza': 1060, 'spring': 2413, 'step': 2439, 'risky': 2204, 'plus': 1892, 'success': 2474, 'louisiana': 1502, 'utah': 2682, 'southern': 2390, 'visa': 2720, 'willing': 2787, 'william': 2785, 'alaska': 90, 'enterprise': 862, 'freddie': 1032, 'mac': 1511, 'activity': 35, 'brain': 302, 'facebook': 929, 'page': 1790, 'levy': 1461, 'werent': 2770, 'abele': 2, 'finish': 982, 'arent': 151, 'suspect': 2503, 'hes': 1166, 'personally': 1857, 'homosexual': 1193, 'schedule': 2262, 'apology': 128, 'comprehensive': 508, 'publish': 2017, 'martin': 1551, 'whitehouse': 2777, 'specific': 2398, 'recommendation': 2082, 'aim': 82, 'cia': 433, 'bankruptcy': 217, 'japan': 1338, 'states': 2428, 'embassy': 834, 'mississippi': 1633, 'soon': 2383, 'cuccinelli': 609, 'epa': 868, 'measles': 1580, 'picture': 1873, 'hit': 1181, 'split': 2405, 'connect': 527, 'surpass': 2498, 'occur': 1727, 'polling': 1905, 'investor': 1312, 'gm': 1082, 'warming': 2741, 'maybe': 1568, 'georgias': 1071, 'drinking': 778, 'ground': 1111, 'western': 2772, 'corridor': 567, 'jeopardize': 1345, 'rap': 2052, 'customer': 616, 'dump': 788, 'guevara': 1120, 'prepare': 1941, 'preschool': 1942, 'betty': 260, 'sutton': 2506, 'inside': 1282, 'cocaine': 468, 'embargo': 833, 'equipment': 871, 'madison': 1514, 'previously': 1957, 'ant': 122, 'estimated': 884, 'kurt': 1412, 'enroll': 858, 'orientation': 1764, 'word': 2804, 'discover': 734, 'hurd': 1215, 'teenager': 2537, 'maternity': 1563, 'fundraise': 1044, 'overhead': 1775, 'mayoral': 1570, 'totally': 2592, 'worldwide': 2812, 'invade': 1306, 'acquire': 28, 'destruction': 700, 'capture': 359, 'offset': 1736, 'flee': 994, 'dramatic': 770, 'quadruple': 2028, 'bushs': 336, 'outrageous': 1770, 'institute': 1290, 'bike': 265, 'foot': 1008, 'todd': 2583, 'akin': 87, 'academy': 13, 'assessment': 166, 'nominate': 1702, 'chuck': 431, 'filibuster': 973, 'ethnicity': 887, 'ought': 1768, 'midwest': 1611, 'vietnam': 2710, 'gallon': 1050, 'higher': 1170, 'factory': 933, 'scientist': 2270, 'lyndon': 1510, 'cancel': 350, 'effectively': 812, 'successfully': 2476, 'technology': 2533, 'database': 630, 'tech': 2531, 'timeline': 2580, 'discretionary': 735, 'dwight': 790, 'accommodate': 17, 'unemployed': 2657, 'jennifer': 1344, 'file': 972, 'prosecution': 1999, 'design': 695, 'attendance': 177, 'virus': 2719, 'shell': 2321, 'republicans': 2151, 'spent': 2403, 'seventy': 2312, 'inaction': 1247, 'steal': 2436, 'nonpartisan': 1705, 'dirty': 724, 'challenger': 402, 'deciding': 650, 'error': 877, 'reconciliation': 2083, 'amend': 102, 'curb': 610, 'spread': 2411, 'fancy': 942, 'ride': 2198, 'joanne': 1354, 'society': 2374, 'night': 1698, 'reverse': 2184, 'immediately': 1236, 'conviction': 558, 'february': 955, 'kentucky': 1389, 'print': 1961, 'father': 951, 'eat': 800, 'sheldon': 2320, 'appointment': 138, 'subprime': 2468, 'mortality': 1649, 'unfunded': 2660, 'waiver': 2733, 'preventable': 1953, 'beef': 241, 'allegation': 95, 'overwhelming': 1781, 'focus': 1004, 'proven': 2008, 'theft': 2560, 'petersburg': 1862, 'participation': 1803, 'rely': 2128, 'installation': 1287, 'reality': 2067, 'declaration': 652, 'elected': 821, 'nfl': 1697, 'bus': 334, 'newspaper': 1695, 'victory': 2708, 'electoral': 823, 'potential': 1923, 'insurer': 1295, 'charity': 410, 'pawlenty': 1824, 'dad': 620, 'utility': 2683, 'fed': 956, 'viagra': 2705, 'rapist': 2054, 'exam': 895, 'southwest': 2391, 'jewish': 1351, 'trend': 2623, 'wound': 2817, 'table': 2513, 'currency': 612, 'economist': 804, 'boost': 288, 'quit': 2034, 'ferguson': 966, 'regime': 2105, 'youve': 2827, 'behalf': 246, 'present': 1944, 'version': 2700, 'pete': 1860, 'ration': 2060, 'wasteful': 2751, 'invite': 1313, 'fannie': 943, 'aig': 81, 'disappear': 729, 'discriminate': 736, 'revoke': 2186, 'vetoed': 2704, 'argue': 152, 'terrible': 2545, 'admission': 48, 'palestinian': 1793, 'indicate': 1262, 'exact': 893, 'nevada': 1689, 'visitor': 2722, 'warm': 2740, 'heart': 1156, 'counseling': 576, 'coffman': 470, 'gunfire': 1124, 'californias': 343, 'testify': 2551, 'assist': 167, 'series': 2304, 'condom': 518, 'disabled': 727, 'label': 1415, 'establishment': 881, 'guess': 1119, 'complete': 504, 'solve': 2379, 'rat': 2056, 'spill': 2404, 'slush': 2365, 'innocent': 1280, 'junket': 1373, 'approach': 140, 'greece': 1104, 'metropolitan': 1603, 'lieutenant': 1468, 'cigarette': 435, 'gambling': 1051, 'cure': 611, 'floor': 997, 'gerald': 1072, 'mosquito': 1652, 'screen': 2273, 'illness': 1233, 'renewable': 2133, 'worst': 2814, 'conceal': 512, 'candidacy': 352, 'manipulate': 1533, 'volunteer': 2724, 'station': 2430, 'enjoy': 856, 'enrol': 857, 'divert': 746, 'bureaucracy': 329, 'dave': 633, 'brat': 306, 'teddy': 2535, 'roe': 2212, 'wade': 2729, 'gore': 1091, 'till': 2576, 'proficiency': 1980, 'subsidize': 2469, 'unpopular': 2671, 'develop': 705, 'lifetime': 1470, 'maryland': 1554, 'ralph': 2048, 'activist': 34, 'wildlife': 2784, 'denver': 682, 'shower': 2336, 'bathroom': 232, 'pell': 1832, 'hamas': 1134, 'wear': 2760, 'hell': 1162, 'ann': 115, 'kuster': 1413, 'syndrome': 2510, 'administrator': 47, 'policeman': 1898, 'trenton': 2624, 'encourage': 843, 'interior': 1298, 'genetically': 1067, 'whatsoever': 2775, 'april': 146, 'jimmy': 1353, 'unfair': 2659, 'cliff': 452, 'politifact': 1903, 'document': 750, 'pave': 1823, 'active': 32, 'poland': 1896, 'sonia': 2382, 'unless': 2668, 'hammer': 1135, 'shelter': 2322, 'teen': 2536, 'belief': 248, 'contrary': 550, 'stabilize': 2416, 'ease': 797, 'september': 2301, 'cdc': 384, 'dependence': 686, 'proposition': 1997, 'discharge': 731, 'abort': 6, 'womens': 2802, 'wolf': 2799, 'deem': 658, 'whats': 2774, 'ticket': 2574, 'retain': 2176, 'obesity': 1722, 'survive': 2502, 'rock': 2211, 'racist': 2039, 'crossing': 604, 'earner': 795, 'divorce': 748, 'robbery': 2209, 'endorsement': 846, 'note': 1710, 'gap': 1054, 'jerseyans': 1348, 'jones': 1364, 'sport': 2408, 'steel': 2437, 'load': 1484, 'implementation': 1241, 'relative': 2121, 'spokesman': 2406, 'democracy': 677, 'liability': 1462, 'garcia': 1055, 'wild': 2783, 'planning': 1884, 'radical': 2041, 'marxist': 1552, 'sudden': 2477, 'summer': 2484, 'armed': 157, 'swap': 2507, 'bowe': 293, 'bergdahl': 257, 'luther': 1507, 'vaccination': 2689, 'ruling': 2231, 'sat': 2254, 'overturn': 1780, 'appropriation': 142, 'rescue': 2155, 'drink': 777, 'mansion': 1534, 'main': 1519, 'anchor': 112, 'regardless': 2104, 'homosexuality': 1194, 'aspect': 162, 'climb': 454, 'devastate': 704, 'substantial': 2472, 'pilot': 1876, 'urge': 2676, 'overstay': 1779, 'surface': 2495, 'rebuild': 2072, 'comparable': 500, 'heck': 1158, 'layoff': 1437, 'delegate': 672, 'dean': 641, 'crists': 599, 'proof': 1990, 'thank': 2557, 'straus': 2452, 'pers': 1854, 'skill': 2357, 'inequality': 1268, 'flu': 1002, 'russ': 2237, 'avoid': 194, 'boy': 296, 'enrollment': 859, 'doyle': 766, 'deduction': 657, 'role': 2213, 'explosive': 920, 'urban': 2675, 'massage': 1557, 'environment': 866, 'margaret': 1541, 'touch': 2593, 'prostitute': 2001, 'lab': 1414, 'ordinance': 1757, 'whove': 2781, 'rev': 2181, 'comprise': 509, 'existence': 906, 'arena': 150, 'withdrawal': 2796, 'fish': 987, 'mission': 1632, 'ben': 251, 'consequence': 533, 'transaction': 2609, 'seize': 2288, 'elderly': 819, 'device': 709, 'championship': 405, 'joint': 1361, 'leak': 1442, 'legitimate': 1454, 'baseball': 227, 'scientific': 2269, 'chicken': 418, 'era': 873, 'meal': 1578, 'trimet': 2628, 'concern': 514, 'exclude': 900, 'purpose': 2023, 'discussion': 739, 'appeal': 130, 'stuff': 2465, 'motorist': 1655, 'privatization': 1967, 'pinellas': 1877, 'married': 1549, 'chair': 399, 'cruzs': 606, 'isakson': 1322, 'southeast': 2389, 'knowledge': 1407, 'sullivan': 2483, 'weak': 2755, 'womans': 2801, 'morgan': 1648, 'alan': 89, 'kick': 1394, 'nazi': 1676, 'relatively': 2122, 'hollywood': 1187, 'marcy': 1540, 'kaptur': 1379, 'kucinich': 1411, 'inspect': 1284, 'vacant': 2686, 'applicant': 134, 'representation': 2146, 'select': 2289, 'embrace': 835, 'ahmadinejad': 79, 'extreme': 924, 'cuban': 608, 'boot': 289, 'erie': 875, 'struggle': 2461, 'instal': 1286, 'preside': 1945, 'auditor': 183, 'automatically': 190, 'statistically': 2432, 'final': 976, 'upgrade': 2673, 'clothing': 459, 'deserve': 694, 'traditional': 2603, 'son': 2381, 'rein': 2116, 'window': 2790, 'movement': 1656, 'match': 1561, 'fatal': 949, 'broke': 313, 'expectancy': 911, 'engineer': 853, 'movie': 1657, 'reproductive': 2148, 'acknowledge': 25, 'recidivism': 2078, 'announcement': 118, 'trial': 2625, 'renewal': 2134, 'bachmann': 199, 'coalition': 465, 'toxic': 2598, 'equality': 870, 'dinner': 718, 'mess': 1600, 'stone': 2445, 'exercise': 904, 'theyll': 2562, 'germany': 1073, 'jew': 1350, 'neighbor': 1683, 'ninth': 1700, 'soviet': 2392, 'soros': 2384, 'mismanage': 1629, 'afraid': 66, 'kit': 1404, 'kingston': 1402, 'delegation': 673, 'debunk': 646, 'peace': 1830, 'yemen': 2821, 'banking': 215, 'brotherhood': 315, 'chafee': 398, 'workman': 2809, 'infect': 1270, 'disproportionately': 742, 'educational': 808, 'orleans': 1766, 'convert': 556, 'definition': 667, 'custody': 615, 'appropriate': 141, 'patent': 1816, 'mom': 1642, 'mixed': 1637, 'julie': 1369, 'bit': 273}\n"
     ]
    }
   ],
   "source": [
    "print(Tfidf_vect.vocabulary_)"
   ]
  },
  {
   "cell_type": "code",
   "execution_count": 253,
   "metadata": {
    "collapsed": true
   },
   "outputs": [
    {
     "name": "stdout",
     "output_type": "stream",
     "text": [
      "  (0, 2490)\t0.2943067560038221\n",
      "  (0, 2259)\t0.15407895059836207\n",
      "  (0, 1900)\t0.4191716223747053\n",
      "  (0, 1479)\t0.4465318638794016\n",
      "  (0, 1112)\t0.4020303144675136\n",
      "  (0, 676)\t0.47871694867418674\n",
      "  (0, 7)\t0.351780279706506\n",
      "  (1, 2425)\t0.6946809229397402\n",
      "  (1, 1947)\t0.15247226068666603\n",
      "  (1, 1674)\t0.2833305298584395\n",
      "  (1, 1068)\t0.2272520236573982\n",
      "  (1, 1057)\t0.22910899726767683\n",
      "  (1, 654)\t0.2780622616256947\n",
      "  (1, 464)\t0.2852554680090285\n",
      "  (1, 335)\t0.20296860042499582\n",
      "  (1, 244)\t0.26206528213983565\n",
      "  (1, 45)\t0.20296860042499582\n",
      "  (2, 2725)\t0.2022488440257467\n",
      "  (2, 1572)\t0.2843387964315134\n",
      "  (2, 1358)\t0.27468876514897594\n",
      "  (2, 1316)\t0.315419127546535\n",
      "  (2, 1174)\t0.2568374161128438\n",
      "  (2, 1068)\t0.3002244190057039\n",
      "  (2, 763)\t0.44910993585248477\n",
      "  (2, 456)\t0.24081063650745593\n",
      "  :\t:\n",
      "  (10152, 260)\t0.46436633986641623\n",
      "  (10153, 1841)\t0.22704065271153753\n",
      "  (10153, 1714)\t0.30258445270026213\n",
      "  (10153, 1669)\t0.2945446773530035\n",
      "  (10153, 1617)\t0.4591288597219248\n",
      "  (10153, 1293)\t0.2901425017612319\n",
      "  (10153, 1151)\t0.2308683893024971\n",
      "  (10153, 899)\t0.4226652898973792\n",
      "  (10153, 97)\t0.3060582522393057\n",
      "  (10153, 15)\t0.38670250666197176\n",
      "  (10154, 2820)\t0.25189892304072625\n",
      "  (10154, 1825)\t0.3194111001964507\n",
      "  (10154, 1523)\t0.34048163449663904\n",
      "  (10154, 1131)\t0.4080969903620434\n",
      "  (10154, 941)\t0.3888299806995042\n",
      "  (10154, 524)\t0.3871015199177186\n",
      "  (10154, 193)\t0.3805517545942538\n",
      "  (10154, 105)\t0.3258782075131824\n",
      "  (10155, 2665)\t0.32509674191882265\n",
      "  (10155, 2426)\t0.22405982510632405\n",
      "  (10155, 2086)\t0.5652324351367433\n",
      "  (10155, 1842)\t0.24134630273559834\n",
      "  (10155, 1605)\t0.4530709212856511\n",
      "  (10155, 1123)\t0.37013314756066623\n",
      "  (10155, 484)\t0.35228078709254\n"
     ]
    }
   ],
   "source": [
    "print(train_X_Tfidf)"
   ]
  },
  {
   "cell_type": "code",
   "execution_count": 254,
   "metadata": {
    "collapsed": true
   },
   "outputs": [
    {
     "name": "stdout",
     "output_type": "stream",
     "text": [
      "1.0\n",
      "0.0\n"
     ]
    }
   ],
   "source": [
    "print(train_X_Tfidf.max())\n",
    "print(train_X_Tfidf.min())"
   ]
  },
  {
   "cell_type": "code",
   "execution_count": 255,
   "metadata": {},
   "outputs": [],
   "source": [
    "from sklearn.feature_extraction.text import TfidfVectorizer\n",
    "from sklearn import model_selection, naive_bayes, svm\n",
    "from sklearn.metrics import accuracy_score"
   ]
  },
  {
   "cell_type": "code",
   "execution_count": 352,
   "metadata": {},
   "outputs": [
    {
     "data": {
      "text/plain": [
       "MultinomialNB(alpha=1.0, class_prior=None, fit_prior=True)"
      ]
     },
     "execution_count": 352,
     "metadata": {},
     "output_type": "execute_result"
    }
   ],
   "source": [
    "Naive = naive_bayes.MultinomialNB()\n",
    "Naive.fit(train_X_Tfidf,train_Y)"
   ]
  },
  {
   "cell_type": "code",
   "execution_count": 353,
   "metadata": {},
   "outputs": [
    {
     "name": "stdout",
     "output_type": "stream",
     "text": [
      "Naive Bayes Accuracy Score ->  20.906200317965023\n"
     ]
    }
   ],
   "source": [
    "predictions_NB = Naive.predict(test_X_Tfidf)\n",
    "print(\"Naive Bayes Accuracy Score -> \",accuracy_score(predictions_NB, test_Y)*100)"
   ]
  },
  {
   "cell_type": "code",
   "execution_count": 354,
   "metadata": {},
   "outputs": [
    {
     "data": {
      "text/plain": [
       "SVC(C=1.0, cache_size=200, class_weight=None, coef0=0.0,\n",
       "    decision_function_shape='ovr', degree=3, gamma='auto', kernel='linear',\n",
       "    max_iter=-1, probability=False, random_state=None, shrinking=True,\n",
       "    tol=0.001, verbose=False)"
      ]
     },
     "execution_count": 354,
     "metadata": {},
     "output_type": "execute_result"
    }
   ],
   "source": [
    "SVM = svm.SVC(C=1.0, kernel='linear', degree=3, gamma='auto')\n",
    "SVM.fit(train_X_Tfidf,train_Y)"
   ]
  },
  {
   "cell_type": "code",
   "execution_count": 355,
   "metadata": {},
   "outputs": [
    {
     "name": "stdout",
     "output_type": "stream",
     "text": [
      "SVM Accuracy Score ->  20.429252782193956\n"
     ]
    }
   ],
   "source": [
    "predictions_SVM = SVM.predict(test_X_Tfidf)\n",
    "print(\"SVM Accuracy Score -> \",accuracy_score(predictions_SVM, test_Y)*100)"
   ]
  },
  {
   "cell_type": "markdown",
   "metadata": {},
   "source": [
    "Accuracy on test data is about 20%"
   ]
  },
  {
   "cell_type": "markdown",
   "metadata": {},
   "source": [
    "https://medium.com/@bedigunjit/simple-guide-to-text-classification-nlp-using-svm-and-naive-bayes-with-python-421db3a72d34"
   ]
  }
 ],
 "metadata": {
  "kernelspec": {
   "display_name": "Python 3",
   "language": "python",
   "name": "python3"
  },
  "language_info": {
   "codemirror_mode": {
    "name": "ipython",
    "version": 3
   },
   "file_extension": ".py",
   "mimetype": "text/x-python",
   "name": "python",
   "nbconvert_exporter": "python",
   "pygments_lexer": "ipython3",
   "version": "3.6.9"
  }
 },
 "nbformat": 4,
 "nbformat_minor": 2
}
